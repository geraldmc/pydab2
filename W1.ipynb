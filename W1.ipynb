{
  "nbformat": 4,
  "nbformat_minor": 0,
  "metadata": {
    "colab": {
      "provenance": [],
      "mount_file_id": "1wTOb0ousg_873LGBnHcM529zf3mapVa9",
      "authorship_tag": "ABX9TyO4heGP6r+iaPIXSpNrKux4"
    },
    "kernelspec": {
      "name": "python3",
      "display_name": "Python 3"
    },
    "language_info": {
      "name": "python"
    }
  },
  "cells": [
    {
      "cell_type": "code",
      "execution_count": null,
      "metadata": {
        "id": "SzTCXmZIa8p3"
      },
      "outputs": [],
      "source": [
        "# Advanced Python\n",
        "# Digging Deeper into Basic Data Structures (12.03.2024)"
      ]
    },
    {
      "cell_type": "code",
      "source": [
        "# ID function in Python\n",
        "\n",
        "# Use cases:\n",
        "# custom repr when you still want to distinguish instances of mutable objects\n",
        "# debugging\n",
        "\n",
        "x = 5\n",
        "# Weirdly, the unique id for 5 and x, when 5 is assigned to x is the same.\n",
        "id(x) == id(5)\n",
        "print(f\"Id of X is {x}\")\n",
        "\n",
        "y = x\n",
        "print(f\"Id of Y is {y}\")\n",
        "\n",
        "# Can also do equivalence:\n",
        "id(x) == id(y)\n",
        "\n",
        "# Or even simpler:\n",
        "print(x is y)\n",
        "\n",
        "# QUESTION: Why doesn't the following return true?\n",
        "print(id(x) is (y))\n"
      ],
      "metadata": {
        "id": "dbSoq9S3d86O",
        "outputId": "8b031e0b-ea35-4d9c-e913-49b62c4d7141",
        "colab": {
          "base_uri": "https://localhost:8080/"
        }
      },
      "execution_count": 12,
      "outputs": [
        {
          "output_type": "stream",
          "name": "stdout",
          "text": [
            "Id of X is 5\n",
            "Id of Y is 5\n",
            "True\n",
            "False\n"
          ]
        }
      ]
    },
    {
      "cell_type": "code",
      "source": [],
      "metadata": {
        "id": "qOLcH7KV4ycf"
      },
      "execution_count": null,
      "outputs": []
    }
  ]
}