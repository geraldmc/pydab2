{
  "nbformat": 4,
  "nbformat_minor": 0,
  "metadata": {
    "colab": {
      "provenance": [],
      "mount_file_id": "1wTOb0ousg_873LGBnHcM529zf3mapVa9",
      "authorship_tag": "ABX9TyPLc6rsRT8kpNCGA9Rkryaf"
    },
    "kernelspec": {
      "name": "python3",
      "display_name": "Python 3"
    },
    "language_info": {
      "name": "python"
    }
  },
  "cells": [
    {
      "cell_type": "code",
      "execution_count": null,
      "metadata": {
        "id": "SzTCXmZIa8p3"
      },
      "outputs": [],
      "source": [
        "# Advanced Python\n",
        "# Digging Deeper into Basic Data Structures (12.03.2024)"
      ]
    },
    {
      "cell_type": "code",
      "source": [
        "# ID function in Python\n",
        "\n",
        "# Use cases:\n",
        "# custom repr when you still want to distinguish instances of mutable objects\n",
        "# debugging\n",
        "\n",
        "x = 5\n",
        "# Weirdly, the unique id for 5 and x, when 5 is assigned to x is the same.\n",
        "id(x) == id(5)\n",
        "print(f\"Id of X is {x}\")\n",
        "\n",
        "y = x\n",
        "print(f\"Id of Y is {y}\")\n",
        "\n",
        "# Can also do equivalence:\n",
        "id(x) == id(y)\n",
        "\n",
        "# Or even simpler:\n",
        "print(x is y)\n",
        "\n",
        "# QUESTION: Why doesn't the following return true?\n",
        "print(id(x) is (y))\n"
      ],
      "metadata": {
        "colab": {
          "base_uri": "https://localhost:8080/"
        },
        "id": "dbSoq9S3d86O",
        "outputId": "b1a4e8a5-765e-4532-b64a-727593367e7c"
      },
      "execution_count": 1,
      "outputs": [
        {
          "output_type": "stream",
          "name": "stdout",
          "text": [
            "Id of X is 5\n",
            "Id of Y is 5\n",
            "True\n",
            "False\n"
          ]
        }
      ]
    },
    {
      "cell_type": "code",
      "source": [
        "# \"is\" versus \"==\"\n",
        "\n",
        "# is and == are both comparison operators, but they serve different purposes:\n",
        "\n",
        "# The \"is\" operator checks if two variables point to the same object in memory.\n",
        "# It's a check for identity, not equality.\n",
        "\n",
        "# The \"==\"\" operator checks if two variables have the same value.\n",
        "# It's a check for equality, not identity.\n",
        "\n",
        "x = 256\n",
        "y = 256\n",
        "print(x is y)\n",
        "\n",
        "x = 257\n",
        "y = 257\n",
        "print(x is y)\n",
        "\n",
        "# The above result is \"True\" because Python creates instances of integers up to 256.\n",
        "# In the first case, x and y point to the same instance. In the second they\n",
        "# do not.\n",
        "\n",
        "# Don't use \"is\" unless you want to check that two or more things point\n",
        "# the same object.\n",
        "\n",
        "# The expression \"==\" tests whether the *values* of the objects are the same.\n",
        "\n",
        "# Where should you use \"is\". What are the use cases?\n",
        "# In the case of a singleton usage, for examples in the case of \"None\".\n",
        "\n",
        "x = None\n",
        "if x is None:\n",
        "  print(\"It is None\")\n",
        "\n",
        "# If you are checking a singleton object, or you want to check if any instance\n",
        "# of an object is what you expect it to be, then use \"is\"."
      ],
      "metadata": {
        "colab": {
          "base_uri": "https://localhost:8080/"
        },
        "id": "qOLcH7KV4ycf",
        "outputId": "92a41e3c-bf2a-45b0-cf85-4356290ac832"
      },
      "execution_count": 8,
      "outputs": [
        {
          "output_type": "stream",
          "name": "stdout",
          "text": [
            "True\n",
            "False\n",
            "It is None\n"
          ]
        }
      ]
    },
    {
      "cell_type": "code",
      "source": [
        "# sys.getsizeof\n",
        "import sys\n",
        "\n",
        "# How much memory is the integer 1 taking up?\n",
        "print(sys.getsizeof(1)) # 28 bytes\n",
        "\n",
        "# How big is the empty string?\n",
        "x = ''\n",
        "print(sys.getsizeof(x)) # 49 bytes\n",
        "\n",
        "# How about for lists?\n",
        "l1 = [10,20,30]\n",
        "print(sys.getsizeof(l1)) # 88 bytes\n",
        "\n",
        "# Now, let's alter the list.\n",
        "l1[0] = 'abcde'\n",
        "print(sys.getsizeof(l1)) # still 88 bytes\n",
        "\n",
        "l1[0] = 'abcde' * 100\n",
        "print(sys.getsizeof(l1)) # still 88 bytes!?\n",
        "\n",
        "# Look at the size of the list element by itself.\n",
        "print(sys.getsizeof(l1[0])) # 549 bytes\n",
        "\n",
        "# sys.getsizeof is telling us the size of the list, not it's contents."
      ],
      "metadata": {
        "id": "aezazq1N6QGu",
        "outputId": "8a904e25-053f-44fe-f4e8-4b29e2a4f431",
        "colab": {
          "base_uri": "https://localhost:8080/"
        }
      },
      "execution_count": 15,
      "outputs": [
        {
          "output_type": "stream",
          "name": "stdout",
          "text": [
            "28\n",
            "49\n",
            "88\n",
            "88\n",
            "88\n",
            "549\n"
          ]
        }
      ]
    }
  ]
}